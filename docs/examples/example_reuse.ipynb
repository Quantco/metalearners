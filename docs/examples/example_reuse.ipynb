{
 "cells": [
  {
   "cell_type": "markdown",
   "metadata": {},
   "source": [
    "(example-reuse)=\n",
    "\n",
    " Example: Reusing base models\n",
    "=============================\n",
    "\n",
    "Motivation\n",
    "----------\n",
    "\n",
    "In our {ref}`Why MetaLearners <motivation-why-metalearners>` section\n",
    "we praise the modularity of MetaLearners. Part of the reason why\n",
    "modularity is useful is because we can actively decouple different\n",
    "parts of the CATE estimation process.\n",
    "\n",
    "Concretely, this decoupling allows for saving lots of compute\n",
    "resources: if we know that we merely want to change *some parts* of a\n",
    "MetaLearner, we may as well reuse the parts that we don't want to\n",
    "change. Enabling this kind of base model reuse was one of the\n",
    "requirements on ``metalearners``, see {ref}`Why not causalml or econml\n",
    "<motivation-why-not-causalml-or-econml>`.\n",
    "\n",
    "For instance, imagine trying to tune an R-Learner's -- consisting of two\n",
    "nuisance models, a propensity model and an outcome model -- propensity\n",
    "model with respect to its R-Loss. In such a scenario we would like to\n",
    "reuse the same outcome model because it isn't affected by the\n",
    "propensity model and thereby save a lot of redundant compute.\n",
    "\n",
    "Example\n",
    "-------\n",
    "\n",
    "### Loading the data\n",
    "\n",
    "Just like in our {ref}`example on estimating CATEs with a MetaLearner\n",
    "<example-basic>`, we will first load some experiment data:"
   ]
  },
  {
   "cell_type": "code",
   "execution_count": null,
   "metadata": {
    "vscode": {
     "languageId": "plaintext"
    }
   },
   "outputs": [],
   "source": [
    "import pandas as pd\n",
    "from pathlib import Path\n",
    "from git_root import git_root\n",
    "\n",
    "df = pd.read_csv(git_root(\"data/learning_mindset.zip\"))\n",
    "outcome_column = \"achievement_score\"\n",
    "treatment_column = \"intervention\"\n",
    "feature_columns = [\n",
    "    column\n",
    "    for column in df.columns\n",
    "    if column not in [outcome_column, treatment_column]\n",
    "]\n",
    "categorical_feature_columns = [\n",
    "    \"ethnicity\",\n",
    "    \"gender\",\n",
    "    \"frst_in_family\",\n",
    "    \"school_urbanicity\",\n",
    "    \"schoolid\",\n",
    "]\n",
    "# Note that explicitly setting the dtype of these features to category\n",
    "# allows both lightgbm as well as shap plots to\n",
    "# 1. Operate on features which are not of type int, bool or float\n",
    "# 2. Correctly interpret categoricals with int values to be\n",
    "#    interpreted as categoricals, as compared to ordinals/numericals.\n",
    "for categorical_feature_column in categorical_feature_columns:\n",
    "    df[categorical_feature_column] = df[categorical_feature_column].astype(\n",
    "        \"category\"\n",
    "    )"
   ]
  },
  {
   "cell_type": "markdown",
   "metadata": {},
   "source": [
    "Now that we've loaded the experiment data, we can train a MetaLearner.\n",
    "\n",
    "\n",
    "### Training a first MetaLearner\n",
    "\n",
    "Again, mirroring our {ref}`example on estimating CATEs with a MetaLearner\n",
    "<example-basic>`, we can train an\n",
    "{class}`~metalearners.rlearner.RLearner` as follows:"
   ]
  },
  {
   "cell_type": "code",
   "execution_count": null,
   "metadata": {
    "vscode": {
     "languageId": "plaintext"
    }
   },
   "outputs": [],
   "source": [
    "from metalearners import RLearner\n",
    "from lightgbm import LGBMRegressor, LGBMClassifier\n",
    "rlearner = RLearner(\n",
    "    nuisance_model_factory=LGBMRegressor,\n",
    "    propensity_model_factory=LGBMClassifier,\n",
    "    treatment_model_factory=LGBMRegressor,\n",
    "    is_classification=False,\n",
    "    n_variants=2,\n",
    "    nuisance_model_params={\"verbose\": -1},\n",
    "    propensity_model_params={\"verbose\": -1},\n",
    "    treatment_model_params={\"verbose\": -1},\n",
    ")\n",
    "\n",
    "rlearner.fit(\n",
    "    X=df[feature_columns],\n",
    "    y=df[outcome_column],\n",
    "    w=df[treatment_column],\n",
    ")"
   ]
  },
  {
   "cell_type": "markdown",
   "metadata": {},
   "source": [
    "By virtue of having fitted the 'overall' MetaLearner, we fitted\n",
    "the base model, too. Thereby we can now reuse some of them if we wish to.\n",
    "\n",
    "### Extracting a basel model from a trained MetaLearner\n",
    "\n",
    "In order to reuse a base model from one MetaLearner for another\n",
    "MetaLearner, we first have to from the former. If, for instance, we\n",
    "are interested in reusing the outcome nuisance model of the\n",
    "{class}`~metalearners.rlearner.RLearner` we just trained, we can\n",
    "access it via its ``_nuisance_models`` attribute:"
   ]
  },
  {
   "cell_type": "code",
   "execution_count": null,
   "metadata": {
    "vscode": {
     "languageId": "plaintext"
    }
   },
   "outputs": [],
   "source": [
    "rlearner._nuisance_models"
   ]
  },
  {
   "cell_type": "markdown",
   "metadata": {},
   "source": [
    "We notice that the {class}`~metalearners.rlearner.RLearner` has two\n",
    "kinds of nuisance models: ``\"propensity_model\"`` and ``\"outcome_model\"``. Note\n",
    "that we could've figured this out by calling its\n",
    "{meth}`~metalearners.rlearner.RLearner.nuisance_model_specifications()` method,\n",
    "too.\n",
    "\n",
    "Therefore, we now know how to fetch our outcome model:"
   ]
  },
  {
   "cell_type": "code",
   "execution_count": null,
   "metadata": {
    "vscode": {
     "languageId": "plaintext"
    }
   },
   "outputs": [],
   "source": [
    "outcome_model = rlearner._nuisance_models[\"outcome_model\"]"
   ]
  },
  {
   "cell_type": "markdown",
   "metadata": {},
   "source": [
    "### Training a second MetaLearner by reusing a base model\n",
    "\n",
    "Given that we know have an already trained outcome model, we can reuse\n",
    "for another 'kind' of {class}`~metalearners.rlearner.RLearner` on the\n",
    "same data. Concretely, we will now want to use a different\n",
    "``propensity_model_factory`` and ``treatment_model_factory``. Note that\n",
    "this time, we do not specify a ``nuisance_model_factory`` in the\n",
    "initialization of the {class}`~metalearners.rlearner.RLearner` since\n",
    "the {class}`~metalearners.rlearner.RLearner` only relies on a single\n",
    "non-propensity nuisance model. This might vary for other MetaLearners,\n",
    "such as the {class}`~metalearners.drlearner.DRLearner`."
   ]
  },
  {
   "cell_type": "code",
   "execution_count": null,
   "metadata": {
    "vscode": {
     "languageId": "plaintext"
    }
   },
   "outputs": [],
   "source": [
    "from sklearn.linear_model import LinearRegression, LogisticRegression\n",
    "\n",
    "rlearner_new = RLearner(\n",
    "    propensity_model_factory=LogisticRegression,\n",
    "    treatment_model_factory=LinearRegression,\n",
    "    is_classification=False,\n",
    "    fitted_nuisance_models={\"outcome_model\": outcome_model},\n",
    "    propensity_model_params={\"max_iter\": 500},\n",
    "    n_variants=2,\n",
    ")\n",
    "\n",
    "rlearner_new.fit(\n",
    "    X=df[feature_columns],\n",
    "    y=df[outcome_column],\n",
    "    w=df[treatment_column],\n",
    ")"
   ]
  },
  {
   "cell_type": "markdown",
   "metadata": {
    "vscode": {
     "languageId": "plaintext"
    }
   },
   "source": [
    "What's more is that we can also reuse models between different kinds\n",
    "of MetaLearner architectures. A propensity model, for instance, is\n",
    "used in many scenarios. Let's reuse it for a {class}`~metalearners.drlearner.DRLearner`:"
   ]
  },
  {
   "cell_type": "code",
   "execution_count": null,
   "metadata": {
    "vscode": {
     "languageId": "plaintext"
    }
   },
   "outputs": [],
   "source": [
    "from metalearners import DRLearner\n",
    "\n",
    "trained_propensity_model = rlearner._nuisance_models[\"propensity_model\"][0]\n",
    "\n",
    "drlearner = DRLearner(\n",
    "    nuisance_model_factory=LGBMRegressor,\n",
    "    treatment_model_factory=LGBMRegressor,\n",
    "    nuisance_model_params={\"verbose\": -1},\n",
    "    treatment_model_params={\"verbose\": -1},\n",
    "    fitted_propensity_model=trained_propensity_model,\n",
    "    is_classification=False,\n",
    "    n_variants=2,\n",
    ")\n",
    "\n",
    "drlearner.fit(\n",
    "    X=df[feature_columns],\n",
    "    y=df[outcome_column],\n",
    "    w=df[treatment_column],\n",
    ")"
   ]
  },
  {
   "cell_type": "markdown",
   "metadata": {},
   "source": [
    "### Further comments\n",
    "\n",
    "* Note that the nuisance models are always expected to be of type\n",
    "  {class}`~metalearners.cross_fit_estimator.CrossFitEstimator`. More\n",
    "  precisely, the when extracting or passing a particular model kind,\n",
    "  we pass a list of\n",
    "  {class}`~metalearners.cross_fit_estimator.CrossFitEstimator` unless it is the propensity model.\n",
    "* In the examples above we reused nuisance models trained as part of a\n",
    "  call to a MetaLearners overall {meth}`~metalearners.metalearner.MetaLearner.fit` method. If one wants to train a nuisance model in isolation (i.e. not\n",
    "  through a MetaLearner) to be used in a MetaLearner afterwards, one\n",
    "  should do it by instantiating\n",
    "  {class}`~metalearners.cross_fit_estimator.CrossFitEstimator`.\n",
    "* Additionally, individual nuisance models can be trained via a\n",
    "  MetaLearner's {meth}`~metalearners.metalearner.MetaLearner.fit_nuisance`\n",
    "  method.\n",
    "* We strongly recommend only reusing base models if they have been trained on\n",
    "  exactly the same data. If this is not the case, some functionalities\n",
    "  will probably not work as hoped for.\n",
    "* Note that only {term}`nuisance models <Nuisance model>` can be reused, not {term}`treatment\n",
    "  models <Treatment effect model>`."
   ]
  }
 ],
 "metadata": {
  "language_info": {
   "name": "python"
  }
 },
 "nbformat": 4,
 "nbformat_minor": 2
}
