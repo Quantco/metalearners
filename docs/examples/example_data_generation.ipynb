{
 "cells": [
  {
   "cell_type": "markdown",
   "metadata": {},
   "source": [
    "Example: Generating data\n",
    "========================\n",
    "\n",
    "Motivation\n",
    "----------\n",
    "\n",
    "Given the fundamental problem of Causal Inference, simulating or\n",
    "generating data is of particular relevance when working with ATE or\n",
    "CATE estimation: it allows to have a ground truth that we don't get\n",
    "from the real world.\n",
    "\n",
    "For instance, when generating data, we can have access to the\n",
    "Individual Treatment Effect and use that ground truth to evaluate a\n",
    "treatment effect method at hand.\n",
    "\n",
    "In the following example we will describe how the modules\n",
    "<a href=\"../../api_documentation/#metalearners.data_generation\"><code>data_generation</code></a> and\n",
    "<a href=\"../../api_documentation/#metalearners.outcome_functions\"><code>outcome_functions</code></a> can be used to generate data in\n",
    "light of treatment effect estimation.\n",
    "\n",
    "\n",
    "How-to\n",
    "------\n",
    "\n",
    "In the context of treatment effect estimation, our data usually\n",
    "consists of 3 ingredients:\n",
    "\n",
    "- Covariates\n",
    "- Treatment assignments\n",
    "- Observed outcomes\n",
    "\n",
    "In this particular scenario of simulating data, we can add some\n",
    "quantities of interest which are not available in the real world:\n",
    "\n",
    "- Potential outcomes\n",
    "- True CATE or true ITE\n",
    "\n",
    "Let's generate those quantities one after another.\n",
    "\n",
    "\n",
    "### Covariates\n",
    "\n",
    "Let's start by generating covariates. We will use\n",
    "<a href=\"../../api_documentation/#metalearners.data_generation.generate_covariates\"><code>generate_covariates</code></a> for that\n",
    "purpose."
   ]
  },
  {
   "cell_type": "code",
   "execution_count": 1,
   "metadata": {
    "execution": {
     "iopub.execute_input": "2024-11-26T14:13:33.556121Z",
     "iopub.status.busy": "2024-11-26T14:13:33.556025Z",
     "iopub.status.idle": "2024-11-26T14:13:34.685096Z",
     "shell.execute_reply": "2024-11-26T14:13:34.684830Z"
    },
    "vscode": {
     "languageId": "plaintext"
    }
   },
   "outputs": [
    {
     "data": {
      "text/html": [
       "<div>\n",
       "<style scoped>\n",
       "    .dataframe tbody tr th:only-of-type {\n",
       "        vertical-align: middle;\n",
       "    }\n",
       "\n",
       "    .dataframe tbody tr th {\n",
       "        vertical-align: top;\n",
       "    }\n",
       "\n",
       "    .dataframe thead th {\n",
       "        text-align: right;\n",
       "    }\n",
       "</style>\n",
       "<table border=\"1\" class=\"dataframe\">\n",
       "  <thead>\n",
       "    <tr style=\"text-align: right;\">\n",
       "      <th></th>\n",
       "      <th>0</th>\n",
       "      <th>1</th>\n",
       "      <th>2</th>\n",
       "      <th>3</th>\n",
       "      <th>4</th>\n",
       "      <th>5</th>\n",
       "      <th>6</th>\n",
       "      <th>7</th>\n",
       "    </tr>\n",
       "  </thead>\n",
       "  <tbody>\n",
       "    <tr>\n",
       "      <th>0</th>\n",
       "      <td>-0.432580</td>\n",
       "      <td>-1.956691</td>\n",
       "      <td>-2.724410</td>\n",
       "      <td>-4.051359</td>\n",
       "      <td>-4.275785</td>\n",
       "      <td>0</td>\n",
       "      <td>2</td>\n",
       "      <td>3</td>\n",
       "    </tr>\n",
       "    <tr>\n",
       "      <th>1</th>\n",
       "      <td>0.213119</td>\n",
       "      <td>-1.794246</td>\n",
       "      <td>3.335272</td>\n",
       "      <td>0.596448</td>\n",
       "      <td>-8.053070</td>\n",
       "      <td>0</td>\n",
       "      <td>2</td>\n",
       "      <td>3</td>\n",
       "    </tr>\n",
       "    <tr>\n",
       "      <th>2</th>\n",
       "      <td>-0.333022</td>\n",
       "      <td>-1.855324</td>\n",
       "      <td>2.567406</td>\n",
       "      <td>-0.507977</td>\n",
       "      <td>-7.255018</td>\n",
       "      <td>2</td>\n",
       "      <td>4</td>\n",
       "      <td>3</td>\n",
       "    </tr>\n",
       "    <tr>\n",
       "      <th>3</th>\n",
       "      <td>-1.036547</td>\n",
       "      <td>-1.379920</td>\n",
       "      <td>1.721547</td>\n",
       "      <td>-2.817249</td>\n",
       "      <td>-4.626411</td>\n",
       "      <td>2</td>\n",
       "      <td>3</td>\n",
       "      <td>1</td>\n",
       "    </tr>\n",
       "    <tr>\n",
       "      <th>4</th>\n",
       "      <td>-1.514100</td>\n",
       "      <td>-3.060547</td>\n",
       "      <td>-4.077247</td>\n",
       "      <td>-5.819707</td>\n",
       "      <td>-4.468868</td>\n",
       "      <td>5</td>\n",
       "      <td>0</td>\n",
       "      <td>3</td>\n",
       "    </tr>\n",
       "  </tbody>\n",
       "</table>\n",
       "</div>"
      ],
      "text/plain": [
       "          0         1         2         3         4  5  6  7\n",
       "0 -0.432580 -1.956691 -2.724410 -4.051359 -4.275785  0  2  3\n",
       "1  0.213119 -1.794246  3.335272  0.596448 -8.053070  0  2  3\n",
       "2 -0.333022 -1.855324  2.567406 -0.507977 -7.255018  2  4  3\n",
       "3 -1.036547 -1.379920  1.721547 -2.817249 -4.626411  2  3  1\n",
       "4 -1.514100 -3.060547 -4.077247 -5.819707 -4.468868  5  0  3"
      ]
     },
     "execution_count": 1,
     "metadata": {},
     "output_type": "execute_result"
    }
   ],
   "source": [
    "from metalearners.data_generation import generate_covariates\n",
    "\n",
    "features, categorical_features_idx, n_categories = generate_covariates(\n",
    "        n_obs=1000,\n",
    "        n_features=8,\n",
    "        n_categoricals=3,\n",
    "        format=\"pandas\",\n",
    ")\n",
    "features.head() # type: ignore"
   ]
  },
  {
   "cell_type": "markdown",
   "metadata": {},
   "source": [
    "We see that we generated a DataFrame with 8 columns of which the last\n",
    "three are categoricals.\n",
    "\n",
    "\n",
    "### Treatment assignments\n",
    "\n",
    "In this example we will replicate the setup of an RCT, i.e. where the\n",
    "treatment assignments are independent of the covariates. We rely on\n",
    "<a href=\"../../api_documentation/#metalearners.data_generation.generate_treatment\"><code>generate_treatment</code></a>."
   ]
  },
  {
   "cell_type": "code",
   "execution_count": 2,
   "metadata": {
    "execution": {
     "iopub.execute_input": "2024-11-26T14:13:34.704946Z",
     "iopub.status.busy": "2024-11-26T14:13:34.704791Z",
     "iopub.status.idle": "2024-11-26T14:13:34.707624Z",
     "shell.execute_reply": "2024-11-26T14:13:34.707391Z"
    },
    "vscode": {
     "languageId": "plaintext"
    }
   },
   "outputs": [
    {
     "data": {
      "text/plain": [
       "(numpy.ndarray, array([0, 1]), 0.514)"
      ]
     },
     "execution_count": 2,
     "metadata": {},
     "output_type": "execute_result"
    }
   ],
   "source": [
    "import numpy as np\n",
    "from metalearners.data_generation import generate_treatment\n",
    "\n",
    "# We use a fair conflip as a reference.\n",
    "propensity_scores = .5 * np.ones(1000)\n",
    "treatment = generate_treatment(propensity_scores)\n",
    "type(treatment), np.unique(treatment), treatment.mean()"
   ]
  },
  {
   "cell_type": "markdown",
   "metadata": {},
   "source": [
    "As we would expect, an array of binary assignments is generated. The\n",
    "average approximately corresponds to the universal propensity score of\n",
    "$.5$.\n",
    "\n",
    "\n",
    "### Potential outcomes\n",
    "\n",
    "In this example we will rely on <a href=\"../../api_documentation/#metalearners.outcome_functions.linear_treatment_effect\"><code>linear_treatment_effect</code></a>, which\n",
    "generates additive treatment effects which are linear in the features.\n",
    "Note that there are other potential outcome functions available."
   ]
  },
  {
   "cell_type": "code",
   "execution_count": 3,
   "metadata": {
    "execution": {
     "iopub.execute_input": "2024-11-26T14:13:34.708926Z",
     "iopub.status.busy": "2024-11-26T14:13:34.708830Z",
     "iopub.status.idle": "2024-11-26T14:13:34.713643Z",
     "shell.execute_reply": "2024-11-26T14:13:34.713435Z"
    },
    "vscode": {
     "languageId": "plaintext"
    }
   },
   "outputs": [
    {
     "data": {
      "text/plain": [
       "array([[-4.6390948 , -6.99101697],\n",
       "       [-4.5927874 , -1.43775422],\n",
       "       [-5.6179741 , -3.62754599],\n",
       "       ...,\n",
       "       [-5.81369594, -2.16523526],\n",
       "       [ 0.89106589,  0.44998321],\n",
       "       [-6.62191898, -7.66198481]])"
      ]
     },
     "execution_count": 3,
     "metadata": {},
     "output_type": "execute_result"
    }
   ],
   "source": [
    "from metalearners._utils import get_linear_dimension\n",
    "from metalearners.outcome_functions import linear_treatment_effect\n",
    "\n",
    "dim = get_linear_dimension(features)\n",
    "outcome_function = linear_treatment_effect(dim)\n",
    "potential_outcomes = outcome_function(features)\n",
    "potential_outcomes"
   ]
  },
  {
   "cell_type": "markdown",
   "metadata": {},
   "source": [
    "We see it generates one column with the potential outcome $Y(0)$ and one column\n",
    "with the potential outcome $Y(1)$. The individual treatment\n",
    "effect can be inferred as a subtraction of both.\n",
    "\n",
    "### Observed outcomes\n",
    "\n",
    "Lastly, we can combine the treatment assignments and potential\n",
    "outcomes to generate the observed outcomes. Note that there might be\n",
    "noise which distinguishes the potential outcome from the observed\n",
    "outcome. For that purpose we can use <a href=\"../../api_documentation/#metalearners.data_generation.compute_experiment_outputs\"><code>compute_experiment_outputs</code></a> and run"
   ]
  },
  {
   "cell_type": "code",
   "execution_count": 4,
   "metadata": {
    "execution": {
     "iopub.execute_input": "2024-11-26T14:13:34.714879Z",
     "iopub.status.busy": "2024-11-26T14:13:34.714797Z",
     "iopub.status.idle": "2024-11-26T14:13:34.716540Z",
     "shell.execute_reply": "2024-11-26T14:13:34.716345Z"
    },
    "vscode": {
     "languageId": "plaintext"
    }
   },
   "outputs": [],
   "source": [
    "from metalearners.data_generation import compute_experiment_outputs\n",
    "\n",
    "observed_outcomes, true_cate = compute_experiment_outputs(\n",
    "    potential_outcomes,\n",
    "    treatment,\n",
    ")"
   ]
  }
 ],
 "metadata": {
  "language_info": {
   "codemirror_mode": {
    "name": "ipython",
    "version": 3
   },
   "file_extension": ".py",
   "mimetype": "text/x-python",
   "name": "python",
   "nbconvert_exporter": "python",
   "pygments_lexer": "ipython3",
   "version": "3.12.4"
  }
 },
 "nbformat": 4,
 "nbformat_minor": 2
}
